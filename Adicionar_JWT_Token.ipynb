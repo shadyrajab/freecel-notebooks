{
  "nbformat": 4,
  "nbformat_minor": 0,
  "metadata": {
    "colab": {
      "provenance": []
    },
    "kernelspec": {
      "name": "python3",
      "display_name": "Python 3"
    },
    "language_info": {
      "name": "python"
    }
  },
  "cells": [
    {
      "cell_type": "code",
      "source": [
        "!pip install python-dotenv"
      ],
      "metadata": {
        "colab": {
          "base_uri": "https://localhost:8080/"
        },
        "id": "IkXBrQJV5Ocl",
        "outputId": "595609ea-daa0-4618-84cb-e8d58b1bbddb"
      },
      "execution_count": 24,
      "outputs": [
        {
          "output_type": "stream",
          "name": "stdout",
          "text": [
            "Collecting python-dotenv\n",
            "  Downloading python_dotenv-1.0.1-py3-none-any.whl (19 kB)\n",
            "Installing collected packages: python-dotenv\n",
            "Successfully installed python-dotenv-1.0.1\n"
          ]
        }
      ]
    },
    {
      "cell_type": "code",
      "execution_count": 25,
      "metadata": {
        "id": "PBoX0D342l_Y"
      },
      "outputs": [],
      "source": [
        "import psycopg2\n",
        "from uuid import uuid4\n",
        "from os import getenv\n",
        "from dotenv import load_dotenv"
      ]
    },
    {
      "cell_type": "code",
      "source": [
        "load_dotenv()"
      ],
      "metadata": {
        "colab": {
          "base_uri": "https://localhost:8080/"
        },
        "id": "7UeAwl1C5b5d",
        "outputId": "b83293e2-11bb-4195-8ed9-1243f32a16f8"
      },
      "execution_count": 27,
      "outputs": [
        {
          "output_type": "execute_result",
          "data": {
            "text/plain": [
              "True"
            ]
          },
          "metadata": {},
          "execution_count": 27
        }
      ]
    },
    {
      "cell_type": "code",
      "source": [
        "HOST = getenv('host')\n",
        "DATABASE = getenv('database')\n",
        "USER = getenv('user')\n",
        "PASSWORD = getenv('password')"
      ],
      "metadata": {
        "id": "pWrFeqIo5qdN"
      },
      "execution_count": 29,
      "outputs": []
    },
    {
      "cell_type": "code",
      "source": [
        "bko = [\n",
        "  'Laise',\n",
        "  'Yasmin',\n",
        "  'Hellen',\n",
        "  'Suzane',\n",
        "  'Joana',\n",
        "  'Shady',\n",
        "  'Victor'\n",
        "]"
      ],
      "metadata": {
        "id": "-boYPbJQ21Pu"
      },
      "execution_count": 16,
      "outputs": []
    },
    {
      "cell_type": "code",
      "source": [
        "connection = psycopg2.connect(\n",
        "    host = HOST,\n",
        "    database = DATABASE,\n",
        "    user = USER,\n",
        "    password = PASSWORD\n",
        ")"
      ],
      "metadata": {
        "id": "gXet-XcN5vM9"
      },
      "execution_count": 30,
      "outputs": []
    },
    {
      "cell_type": "code",
      "source": [
        "cursor = connection.cursor"
      ],
      "metadata": {
        "id": "dnWu_wyY3JxW"
      },
      "execution_count": 18,
      "outputs": []
    },
    {
      "cell_type": "code",
      "source": [
        "for n in bko:\n",
        "  uuid = uuid4()\n",
        "  cursor.execute(f\"INSERT INTO uuids (uuid, nome) values ('{uuid}', '{n.upper()}')\")"
      ],
      "metadata": {
        "id": "-K2kt4nM3K5A"
      },
      "execution_count": 21,
      "outputs": []
    },
    {
      "cell_type": "code",
      "source": [
        "connection.commit()"
      ],
      "metadata": {
        "id": "mrN0DtyG3ab2"
      },
      "execution_count": 22,
      "outputs": []
    },
    {
      "cell_type": "code",
      "source": [],
      "metadata": {
        "id": "ks1YAs-939XR"
      },
      "execution_count": null,
      "outputs": []
    }
  ]
}