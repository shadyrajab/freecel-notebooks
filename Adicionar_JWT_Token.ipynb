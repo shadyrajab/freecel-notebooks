{
  "cells": [
    {
      "cell_type": "code",
      "execution_count": 24,
      "metadata": {
        "colab": {
          "base_uri": "https://localhost:8080/"
        },
        "id": "IkXBrQJV5Ocl",
        "outputId": "595609ea-daa0-4618-84cb-e8d58b1bbddb"
      },
      "outputs": [
        {
          "name": "stdout",
          "output_type": "stream",
          "text": [
            "Collecting python-dotenv\n",
            "  Downloading python_dotenv-1.0.1-py3-none-any.whl (19 kB)\n",
            "Installing collected packages: python-dotenv\n",
            "Successfully installed python-dotenv-1.0.1\n"
          ]
        }
      ],
      "source": [
        "!pip install python-dotenv"
      ]
    },
    {
      "cell_type": "code",
      "execution_count": 25,
      "metadata": {
        "id": "PBoX0D342l_Y"
      },
      "outputs": [],
      "source": [
        "import psycopg2\n",
        "from uuid import uuid4\n",
        "from os import getenv\n",
        "from dotenv import load_dotenv"
      ]
    },
    {
      "cell_type": "code",
      "execution_count": 27,
      "metadata": {
        "colab": {
          "base_uri": "https://localhost:8080/"
        },
        "id": "7UeAwl1C5b5d",
        "outputId": "b83293e2-11bb-4195-8ed9-1243f32a16f8"
      },
      "outputs": [
        {
          "data": {
            "text/plain": [
              "True"
            ]
          },
          "execution_count": 27,
          "metadata": {},
          "output_type": "execute_result"
        }
      ],
      "source": [
        "load_dotenv()"
      ]
    },
    {
      "cell_type": "code",
      "execution_count": 29,
      "metadata": {
        "id": "pWrFeqIo5qdN"
      },
      "outputs": [],
      "source": [
        "HOST = getenv('host')\n",
        "DATABASE = getenv('database')\n",
        "USER = getenv('user')\n",
        "PASSWORD = getenv('password')"
      ]
    },
    {
      "cell_type": "code",
      "execution_count": 16,
      "metadata": {
        "id": "-boYPbJQ21Pu"
      },
      "outputs": [],
      "source": [
        "bko = [\n",
        "  'Laise',\n",
        "  'Yasmin',\n",
        "  'Hellen',\n",
        "  'Suzane',\n",
        "  'Joana',\n",
        "  'Shady',\n",
        "  'Victor'\n",
        "]"
      ]
    },
    {
      "cell_type": "code",
      "execution_count": 30,
      "metadata": {
        "id": "gXet-XcN5vM9"
      },
      "outputs": [],
      "source": [
        "connection = psycopg2.connect(\n",
        "    host = HOST,\n",
        "    database = DATABASE,\n",
        "    user = USER,\n",
        "    password = PASSWORD\n",
        ")"
      ]
    },
    {
      "cell_type": "code",
      "execution_count": 18,
      "metadata": {
        "id": "dnWu_wyY3JxW"
      },
      "outputs": [],
      "source": [
        "cursor = connection.cursor()"
      ]
    },
    {
      "cell_type": "code",
      "execution_count": 21,
      "metadata": {
        "id": "-K2kt4nM3K5A"
      },
      "outputs": [],
      "source": [
        "for n in bko:\n",
        "  uuid = uuid4()\n",
        "  cursor.execute(f\"INSERT INTO uuids (uuid, nome) values ('{uuid}', '{n.upper()}')\")"
      ]
    },
    {
      "cell_type": "code",
      "execution_count": 22,
      "metadata": {
        "id": "mrN0DtyG3ab2"
      },
      "outputs": [],
      "source": [
        "connection.commit()"
      ]
    },
    {
      "cell_type": "code",
      "execution_count": null,
      "metadata": {
        "id": "ks1YAs-939XR"
      },
      "outputs": [],
      "source": []
    }
  ],
  "metadata": {
    "colab": {
      "provenance": []
    },
    "kernelspec": {
      "display_name": "Python 3",
      "name": "python3"
    },
    "language_info": {
      "name": "python"
    }
  },
  "nbformat": 4,
  "nbformat_minor": 0
}
