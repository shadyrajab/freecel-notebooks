{
  "nbformat": 4,
  "nbformat_minor": 0,
  "metadata": {
    "colab": {
      "provenance": []
    },
    "kernelspec": {
      "name": "python3",
      "display_name": "Python 3"
    },
    "language_info": {
      "name": "python"
    }
  },
  "cells": [
    {
      "cell_type": "code",
      "execution_count": 56,
      "metadata": {
        "id": "yIP6ldUJ5dhx"
      },
      "outputs": [],
      "source": [
        "import pandas as pd"
      ]
    },
    {
      "cell_type": "code",
      "source": [
        "df = pd.read_excel('/content/TANGARA DA SERRA - MT - 03-10-23.xlsx')"
      ],
      "metadata": {
        "id": "BgqlCFUA7FRX"
      },
      "execution_count": 57,
      "outputs": []
    },
    {
      "cell_type": "code",
      "source": [
        "df = df[df['Disponibilidade'] == 'COM COBERTURA'].reset_index()"
      ],
      "metadata": {
        "id": "PLit7kHlEGKl"
      },
      "execution_count": 58,
      "outputs": []
    },
    {
      "cell_type": "code",
      "source": [
        "consultores = [\n",
        "  'CAIQUE RIBEIRO GUEDES',\n",
        "  'DYANA SILVA LEITE',\n",
        "  'FLAVIO HENRIQUE LEMOS DOS NASCIMENTO',\n",
        "  'GABRIEL DE JESUS SOUSA',\n",
        "  'GLEICY STEFANNY',\n",
        "  'LUCAS ANDRE',\n",
        "  'LUCAS DE JESUS ALVES GUALBERTO',\n",
        "  'LUCAS ERICK',\n",
        "  'LUCAS FIGUEREDO',\n",
        "  'LUCIANA ALVES DE SOUSA',\n",
        "  'MARIANE GONÇALVES TEIXEIRA',\n",
        "  'ORLANDO RODRIGUES DA SILVA',\n",
        "  'PAMARA ROSA',\n",
        "  'PEDRO HENRIQUE',\n",
        "  'THATILA ALVES XIMENES',\n",
        "  'VICTOR GABRIEL'\n",
        "]\n"
      ],
      "metadata": {
        "id": "v0PKSuvjDK_2"
      },
      "execution_count": 59,
      "outputs": []
    },
    {
      "cell_type": "code",
      "source": [
        "shape = df.shape[0]\n",
        "cons = len(consultores)"
      ],
      "metadata": {
        "id": "bGs0vWw470gN"
      },
      "execution_count": 60,
      "outputs": []
    },
    {
      "cell_type": "code",
      "source": [
        "def get_consultor(index):\n",
        "    total_leads = len(df)\n",
        "    total_consultores = len(consultores)\n",
        "    leads_por_consultor = total_leads // total_consultores\n",
        "\n",
        "    consultor_index = (index // leads_por_consultor) % total_consultores\n",
        "    return consultores[consultor_index]"
      ],
      "metadata": {
        "id": "isV7bbxP8l4G"
      },
      "execution_count": 61,
      "outputs": []
    },
    {
      "cell_type": "code",
      "source": [
        "df['Consultor'] = df.index.to_series().apply(lambda x: get_consultor(x))"
      ],
      "metadata": {
        "id": "2nwjydVr8Yp-"
      },
      "execution_count": 62,
      "outputs": []
    },
    {
      "cell_type": "code",
      "source": [
        "df['Consultor'].value_counts()"
      ],
      "metadata": {
        "colab": {
          "base_uri": "https://localhost:8080/"
        },
        "id": "vz1tVaPv8v_P",
        "outputId": "4aa9e566-2e2e-4eec-efb5-b8b20b35e04b"
      },
      "execution_count": 63,
      "outputs": [
        {
          "output_type": "execute_result",
          "data": {
            "text/plain": [
              "CAIQUE RIBEIRO GUEDES                   164\n",
              "DYANA SILVA LEITE                       159\n",
              "FLAVIO HENRIQUE LEMOS DOS NASCIMENTO    159\n",
              "GABRIEL DE JESUS SOUSA                  159\n",
              "GLEICY STEFANNY                         159\n",
              "LUCAS ANDRE                             159\n",
              "LUCAS DE JESUS ALVES GUALBERTO          159\n",
              "LUCAS ERICK                             159\n",
              "LUCAS FIGUEREDO                         159\n",
              "LUCIANA ALVES DE SOUSA                  159\n",
              "MARIANE GONÇALVES TEIXEIRA              159\n",
              "ORLANDO RODRIGUES DA SILVA              159\n",
              "PAMARA ROSA                             159\n",
              "PEDRO HENRIQUE                          159\n",
              "THATILA ALVES XIMENES                   159\n",
              "VICTOR GABRIEL                          159\n",
              "Name: Consultor, dtype: int64"
            ]
          },
          "metadata": {},
          "execution_count": 63
        }
      ]
    },
    {
      "cell_type": "code",
      "source": [
        "df.to_excel('tangara da serra dividido.xlsx')"
      ],
      "metadata": {
        "id": "A-nZpPJJ9Nye"
      },
      "execution_count": 64,
      "outputs": []
    },
    {
      "cell_type": "code",
      "source": [],
      "metadata": {
        "id": "FTGFS7he96k7"
      },
      "execution_count": null,
      "outputs": []
    }
  ]
}